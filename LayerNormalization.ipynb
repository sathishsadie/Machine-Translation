{
 "cells": [
  {
   "cell_type": "code",
   "execution_count": 2,
   "id": "abe6c9e5-f4d2-4ad8-ae61-20624e4b7f0c",
   "metadata": {},
   "outputs": [],
   "source": [
    "import torch.nn as nn\n",
    "import torch"
   ]
  },
  {
   "cell_type": "code",
   "execution_count": 3,
   "id": "53a59463-4cde-4205-83e7-4c8082c0d060",
   "metadata": {},
   "outputs": [],
   "source": [
    "class LayerNormalization:\n",
    "    def __init__(self,parameter_shape,eps=1e-5):\n",
    "        self.parameter_shape = parameter_shape\n",
    "        self.eps = eps\n",
    "        self.gamma = nn.Parameter(torch.ones(parameter_shape))\n",
    "        self.beta = nn.Parameter(torch.zeros(parameter_shape))\n",
    "\n",
    "    def forward(self,input):\n",
    "        dims = [-(i+1) for i in range(len(self.parameter_shape))]\n",
    "        mean = inputs.mean(dim=dims,keepdim=True)\n",
    "        var = ((inputs-mean)**2).mean(dim=dims,keepdim=True)\n",
    "        std = (var+self.eps).sqrt()\n",
    "        y = (input-mean)/std\n",
    "        out = y*self.gamma + self.beta\n",
    "        return out"
   ]
  },
  {
   "cell_type": "code",
   "execution_count": 27,
   "id": "b7339449-432d-4fdc-b34f-83dbccc735a4",
   "metadata": {},
   "outputs": [
    {
     "data": {
      "text/plain": [
       "torch.Size([3, 8])"
      ]
     },
     "execution_count": 27,
     "metadata": {},
     "output_type": "execute_result"
    }
   ],
   "source": [
    "inputs.size()[-2:]"
   ]
  },
  {
   "cell_type": "code",
   "execution_count": 25,
   "id": "639a063a-3104-4cc3-afb5-11d2aaf85b48",
   "metadata": {},
   "outputs": [
    {
     "name": "stdout",
     "output_type": "stream",
     "text": [
      "tensor([[[ 0.1322,  0.0401,  0.6907,  0.6215,  0.1739, -0.4246, -0.7039,\n",
      "           1.5823],\n",
      "         [-0.5734, -0.8282,  0.9989,  0.5294,  0.0550, -0.9621, -1.2609,\n",
      "           1.1333],\n",
      "         [ 0.8759, -2.3737,  1.5989,  0.2697,  0.4532,  0.3182, -0.8907,\n",
      "          -0.9298]],\n",
      "\n",
      "        [[-0.4805, -1.7740,  0.5545, -0.5496,  0.2363,  0.7078,  0.0118,\n",
      "          -0.5622],\n",
      "         [-0.3795,  0.5117,  0.8441,  0.1549,  1.1514, -0.7622,  1.7229,\n",
      "           1.2656],\n",
      "         [-0.0827, -0.6520, -1.4334,  0.4270,  1.0000, -0.3855,  0.3290,\n",
      "          -0.6773]],\n",
      "\n",
      "        [[-1.1761, -0.3182, -0.4771, -0.4492,  2.3550, -0.4561, -1.4045,\n",
      "          -1.5495],\n",
      "         [-0.2939, -1.0731, -1.3643, -0.2984,  0.6687,  0.2480, -1.3103,\n",
      "          -0.0288],\n",
      "         [ 0.0717, -0.2009,  0.1660,  0.7553, -0.5515,  0.1539,  0.2450,\n",
      "           0.1949]],\n",
      "\n",
      "        [[ 1.1241, -0.0677, -0.2424, -0.2250,  0.7572, -0.6435,  1.3877,\n",
      "           0.7138],\n",
      "         [ 0.5450,  0.2372,  0.2395,  0.2501, -0.7890, -0.5084, -0.0376,\n",
      "          -1.5243],\n",
      "         [ 1.0674,  1.3136, -0.8260,  1.4287,  1.0494,  1.1054, -0.5239,\n",
      "          -0.8149]],\n",
      "\n",
      "        [[ 1.3723,  0.3375,  0.6688,  0.5452,  0.5726, -0.6203,  0.6534,\n",
      "          -0.6842],\n",
      "         [-0.5525, -0.5859, -0.5011, -0.5765,  0.1680,  0.9315, -0.1380,\n",
      "          -0.8902],\n",
      "         [-1.6642,  0.5656, -1.4943,  0.2051, -1.0479,  0.7082, -0.4087,\n",
      "           1.2203]]])\n"
     ]
    }
   ],
   "source": [
    "inputs = torch.randn(5,3,8)\n",
    "print(inputs)\n",
    "lnn = LayerNormalization(inputs.size()[-2:])"
   ]
  },
  {
   "cell_type": "code",
   "execution_count": 28,
   "id": "3687b389-4a29-41a5-9bc4-ba0cc39b0be7",
   "metadata": {},
   "outputs": [
    {
     "data": {
      "text/plain": [
       "torch.Size([5, 3, 8])"
      ]
     },
     "execution_count": 28,
     "metadata": {},
     "output_type": "execute_result"
    }
   ],
   "source": [
    "lnn.forward(inputs).size()"
   ]
  },
  {
   "cell_type": "code",
   "execution_count": null,
   "id": "681d6a44-fbf2-40b6-a458-4cc3447d0e07",
   "metadata": {},
   "outputs": [],
   "source": []
  }
 ],
 "metadata": {
  "kernelspec": {
   "display_name": "Python 3 (ipykernel)",
   "language": "python",
   "name": "python3"
  },
  "language_info": {
   "codemirror_mode": {
    "name": "ipython",
    "version": 3
   },
   "file_extension": ".py",
   "mimetype": "text/x-python",
   "name": "python",
   "nbconvert_exporter": "python",
   "pygments_lexer": "ipython3",
   "version": "3.11.7"
  }
 },
 "nbformat": 4,
 "nbformat_minor": 5
}
