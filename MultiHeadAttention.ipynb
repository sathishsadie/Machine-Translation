{
 "cells": [
  {
   "cell_type": "markdown",
   "id": "3a91d74c-abd5-43b9-be2e-f8c42d96995f",
   "metadata": {},
   "source": [
    "# Multi-Head Attention Explained Simply\n",
    "## Multi-Head Attention is a key concept in transformers, allowing the model to focus on different parts of the input sequence simultaneously. Here's a simple breakdown:\n",
    "\n",
    "## Attention Mechanism: Think of it as a way for the model to focus on specific words or tokens in a sequence. When processing a word, the model can \"attend\" to other important words in the sentence to understand context better.\n",
    "\n",
    "## Multiple Heads: Instead of using just one focus point (attention), the model splits its focus into multiple parts, called \"heads.\" Each head looks at the input sequence in a slightly different way, capturing various aspects of the context.\n",
    "\n",
    "## Parallel Processing: Each head processes the sequence independently, finding different patterns or relationships between the words.\n",
    "\n",
    "## Combining Results: After processing, the outputs from all heads are combined to get a richer understanding of the input sequence."
   ]
  },
  {
   "cell_type": "code",
   "execution_count": 5,
   "id": "86ce83da-5fdb-43a6-a1d0-1d0a2f95ede5",
   "metadata": {},
   "outputs": [],
   "source": [
    "import torch.nn as nn\n",
    "import torch"
   ]
  },
  {
   "cell_type": "code",
   "execution_count": 8,
   "id": "03ec997d-08c5-4dbb-861b-6e502b274289",
   "metadata": {},
   "outputs": [],
   "source": [
    "class MultiHeadAttention(nn.Module):\n",
    "    def __init__(self, d_model, num_heads):\n",
    "        super(MultiHeadAttention, self).__init__()\n",
    "        assert d_model%num_heads==0\n",
    "        self.d_model=d_model\n",
    "        self.num_heads = num_heads\n",
    "        self.d_head = d_model//num_heads\n",
    "        self.W_Q = nn.Linear(d_model,d_model) #Query\n",
    "        self.W_K = nn.Linear(d_model,d_model) #Key\n",
    "        self.W_V = nn.Linear(d_model,d_model) #Value\n",
    "        self.W_O = nn.Linear(d_model,d_model) #Output\n",
    "\n",
    "    def forward(self,x):\n",
    "        Q = self.W_Q(x)\n",
    "        K = self.W_K(x)\n",
    "        V = self.W_V(x)\n",
    "        Q = Q.view(x.size(0), -1, self.num_heads, self.d_head).transpose(1, 2)\n",
    "        K = K.view(x.size(0), -1, self.num_heads, self.d_head).transpose(1, 2)\n",
    "        V = V.view(x.size(0), -1, self.num_heads, self.d_head).transpose(1, 2)\n",
    "        return Q,K,V   "
   ]
  },
  {
   "cell_type": "code",
   "execution_count": 9,
   "id": "76e5389e-3066-400c-afd5-fc649d1e2cd2",
   "metadata": {},
   "outputs": [
    {
     "name": "stdout",
     "output_type": "stream",
     "text": [
      "Input Tensor torch.Size([2, 10, 512])\n",
      "Query shape: torch.Size([2, 8, 10, 64])\n",
      "Key shape: torch.Size([2, 8, 10, 64])\n",
      "Value shape: torch.Size([2, 8, 10, 64])\n"
     ]
    }
   ],
   "source": [
    "batch_size = 2\n",
    "seq_len = 10\n",
    "d_model = 512\n",
    "num_heads = 8\n",
    "input_tensor = torch.rand(batch_size, seq_len, d_model)\n",
    "print(\"Input Tensor\",input_tensor.size())\n",
    "multi_head_attention = MultiHeadAttention(d_model, num_heads)\n",
    "Q, K, V = multi_head_attention(input_tensor)\n",
    "\n",
    "print(\"Query shape:\", Q.shape) \n",
    "print(\"\\n\",Q)\n",
    "print(\"Key shape:\", K.shape)    \n",
    "pri\n",
    "print(\"Value shape:\", V.shape) "
   ]
  },
  {
   "cell_type": "code",
   "execution_count": null,
   "id": "30d20af0-cee8-4c5a-b8ba-96c0cd5244d4",
   "metadata": {},
   "outputs": [],
   "source": []
  }
 ],
 "metadata": {
  "kernelspec": {
   "display_name": "Python 3 (ipykernel)",
   "language": "python",
   "name": "python3"
  },
  "language_info": {
   "codemirror_mode": {
    "name": "ipython",
    "version": 3
   },
   "file_extension": ".py",
   "mimetype": "text/x-python",
   "name": "python",
   "nbconvert_exporter": "python",
   "pygments_lexer": "ipython3",
   "version": "3.11.7"
  }
 },
 "nbformat": 4,
 "nbformat_minor": 5
}
