{
 "cells": [
  {
   "cell_type": "markdown",
   "id": "3a91d74c-abd5-43b9-be2e-f8c42d96995f",
   "metadata": {},
   "source": [
    "# Multi-Head Attention Explained Simply\n",
    "## 1. Multi-Head Attention is a key concept in transformers, allowing the model to focus on different parts of the input sequence simultaneously. Here's a simple breakdown:\n",
    "\n",
    "## 2. Attention Mechanism: Think of it as a way for the model to focus on specific words or tokens in a sequence. When processing a word, the model can \"attend\" to other important words in the sentence to understand context better.\n",
    "\n",
    "## 3. Multiple Heads: Instead of using just one focus point (attention), the model splits its focus into multiple parts, called \"heads.\" Each head looks at the input sequence in a slightly different way, capturing various aspects of the context.\n",
    "\n",
    "## 4. Parallel Processing: Each head processes the sequence independently, finding different patterns or relationships between the words.\n",
    "\n",
    "## 5. Combining Results: After processing, the outputs from all heads are combined to get a richer understanding of the input sequence."
   ]
  },
  {
   "cell_type": "code",
   "execution_count": 1,
   "id": "86ce83da-5fdb-43a6-a1d0-1d0a2f95ede5",
   "metadata": {},
   "outputs": [],
   "source": [
    "import torch.nn as nn\n",
    "import torch\n",
    "import math\n",
    "import torch.nn.functional as F"
   ]
  },
  {
   "cell_type": "code",
   "execution_count": 6,
   "id": "03ec997d-08c5-4dbb-861b-6e502b274289",
   "metadata": {},
   "outputs": [],
   "source": [
    "def scaled_dot_product(q,k,v,mask=None):\n",
    "    d_k = q.size()[-1]\n",
    "    scaled = torch.matmul(q,k.transpose(-2,-1))/math.sqrt(d_k)\n",
    "    if mask is not None:\n",
    "        scaled += mask\n",
    "    attention = F.softmax(scaled,dim=-1)\n",
    "    values = torch.matmul(attention,v)\n",
    "    return values,attention\n",
    "\n",
    "\n",
    "class MultiHeadAttention(nn.Module):\n",
    "    def __init__(self, d_model,batch_size, num_heads,sequence_length):\n",
    "        super(MultiHeadAttention, self).__init__()\n",
    "        assert d_model%num_heads==0\n",
    "        self.d_model=d_model\n",
    "        self.sequence_length = sequence_length\n",
    "        self.batch_size = batch_size  # Batch size for parallel processing\n",
    "        self.num_heads = num_heads\n",
    "        self.d_head = d_model//num_heads\n",
    "        self.qkv = nn.Linear(d_model,3*d_model)\n",
    "        self.linear = nn.Linear(d_model,d_model)\n",
    "    def forward(self,x):\n",
    "        qkv = self.qkv(x)\n",
    "        qkv = qkv.reshape(self.batch_size,self.sequence_length,self.num_heads,3*self.d_head)\n",
    "        print(\"Dimension of Query key and value\",qkv.size())\n",
    "        qkv = qkv.permute(0,2,1,3)\n",
    "        q,k,v = qkv.chunk(3,dim=-1)\n",
    "        print(\"Afer breaking it \",q.size(),\"k\",k.size(),'v',v.size())\n",
    "        values,attention = scaled_dot_product(q,k,v)\n",
    "        print(\"After Scaled dot Product\",values.size())\n",
    "        values = values.reshape(self.batch_size, self.sequence_length, self.num_heads * self.d_head)\n",
    "        return self.linear(values)"
   ]
  },
  {
   "cell_type": "code",
   "execution_count": 7,
   "id": "76e5389e-3066-400c-afd5-fc649d1e2cd2",
   "metadata": {},
   "outputs": [
    {
     "name": "stdout",
     "output_type": "stream",
     "text": [
      "Input Tensor torch.Size([2, 10, 512])\n",
      "Dimension of Query key and value torch.Size([2, 10, 8, 192])\n",
      "Afer breaking it  torch.Size([2, 8, 10, 64]) k torch.Size([2, 8, 10, 64]) v torch.Size([2, 8, 10, 64])\n",
      "After Scaled dot Product torch.Size([2, 8, 10, 64])\n",
      "Shape ::: torch.Size([2, 10, 512])\n",
      "tensor([[[ 0.0266,  0.0013, -0.2697,  ...,  0.0700, -0.1862, -0.3483],\n",
      "         [ 0.1292,  0.2899, -0.0725,  ..., -0.1331, -0.0367, -0.5440],\n",
      "         [ 0.0320,  0.1188, -0.1892,  ...,  0.0804, -0.3294,  0.1453],\n",
      "         ...,\n",
      "         [ 0.1085,  0.0963,  0.1025,  ...,  0.3230,  0.3623, -0.1558],\n",
      "         [ 0.2542,  0.0635,  0.3222,  ...,  0.1230,  0.0415, -0.2237],\n",
      "         [-0.1716,  0.0673,  0.1148,  ...,  0.1442, -0.0649, -0.0435]],\n",
      "\n",
      "        [[ 0.0598,  0.0235, -0.2230,  ...,  0.0520, -0.1016, -0.3768],\n",
      "         [ 0.0987,  0.3513, -0.0627,  ..., -0.0927,  0.0324, -0.5550],\n",
      "         [ 0.0592,  0.1090, -0.1552,  ...,  0.0421, -0.2721,  0.1636],\n",
      "         ...,\n",
      "         [ 0.1132,  0.0910,  0.0424,  ...,  0.2946,  0.3012, -0.1669],\n",
      "         [ 0.2228,  0.0661,  0.2605,  ...,  0.1183, -0.0255, -0.2176],\n",
      "         [-0.2270,  0.0342,  0.0665,  ...,  0.1333, -0.0624,  0.0273]]],\n",
      "       grad_fn=<ViewBackward0>)\n"
     ]
    }
   ],
   "source": [
    "batch_size = 2\n",
    "seq_len = 10\n",
    "d_model = 512\n",
    "num_heads = 8\n",
    "input_tensor = torch.rand(batch_size, seq_len, d_model)\n",
    "print(\"Input Tensor\",input_tensor.size())\n",
    "multi_head_attention = MultiHeadAttention(d_model, batch_size,num_heads,seq_len)\n",
    "values = multi_head_attention(input_tensor)\n",
    "print(\"Shape :::\",values.size())\n",
    "print(values)"
   ]
  },
  {
   "cell_type": "code",
   "execution_count": null,
   "id": "30d20af0-cee8-4c5a-b8ba-96c0cd5244d4",
   "metadata": {},
   "outputs": [],
   "source": []
  }
 ],
 "metadata": {
  "kernelspec": {
   "display_name": "Python 3 (ipykernel)",
   "language": "python",
   "name": "python3"
  },
  "language_info": {
   "codemirror_mode": {
    "name": "ipython",
    "version": 3
   },
   "file_extension": ".py",
   "mimetype": "text/x-python",
   "name": "python",
   "nbconvert_exporter": "python",
   "pygments_lexer": "ipython3",
   "version": "3.11.7"
  }
 },
 "nbformat": 4,
 "nbformat_minor": 5
}
